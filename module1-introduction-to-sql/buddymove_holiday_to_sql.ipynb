{
  "nbformat": 4,
  "nbformat_minor": 0,
  "metadata": {
    "colab": {
      "name": "buddymove_holiday_to_sql.ipynb",
      "provenance": [],
      "collapsed_sections": []
    },
    "kernelspec": {
      "name": "python3",
      "display_name": "Python 3"
    }
  },
  "cells": [
    {
      "cell_type": "code",
      "metadata": {
        "id": "OvPF1bBI8_YU",
        "colab_type": "code",
        "colab": {}
      },
      "source": [
        "\"\"\"Making buddymove_holidyiq.sqlite3\"\"\"\n",
        "\n",
        "import pandas as pd\n",
        "import sqlite3"
      ],
      "execution_count": 0,
      "outputs": []
    },
    {
      "cell_type": "code",
      "metadata": {
        "id": "D-1YO0Ve9JyT",
        "colab_type": "code",
        "colab": {
          "base_uri": "https://localhost:8080/",
          "height": 424
        },
        "outputId": "9d4da5f7-fc17-45cf-e178-bb79f48d123f"
      },
      "source": [
        "# Loading the dataset in pandas\n",
        "\n",
        "df = pd.read_csv('https://raw.githubusercontent.com/Skantastico/DS-Unit-3-Sprint-2-SQL-and-Databases/master/module1-introduction-to-sql/buddymove_holidayiq.csv')\n",
        "\n",
        "df"
      ],
      "execution_count": 3,
      "outputs": [
        {
          "output_type": "execute_result",
          "data": {
            "text/html": [
              "<div>\n",
              "<style scoped>\n",
              "    .dataframe tbody tr th:only-of-type {\n",
              "        vertical-align: middle;\n",
              "    }\n",
              "\n",
              "    .dataframe tbody tr th {\n",
              "        vertical-align: top;\n",
              "    }\n",
              "\n",
              "    .dataframe thead th {\n",
              "        text-align: right;\n",
              "    }\n",
              "</style>\n",
              "<table border=\"1\" class=\"dataframe\">\n",
              "  <thead>\n",
              "    <tr style=\"text-align: right;\">\n",
              "      <th></th>\n",
              "      <th>User Id</th>\n",
              "      <th>Sports</th>\n",
              "      <th>Religious</th>\n",
              "      <th>Nature</th>\n",
              "      <th>Theatre</th>\n",
              "      <th>Shopping</th>\n",
              "      <th>Picnic</th>\n",
              "    </tr>\n",
              "  </thead>\n",
              "  <tbody>\n",
              "    <tr>\n",
              "      <th>0</th>\n",
              "      <td>User 1</td>\n",
              "      <td>2</td>\n",
              "      <td>77</td>\n",
              "      <td>79</td>\n",
              "      <td>69</td>\n",
              "      <td>68</td>\n",
              "      <td>95</td>\n",
              "    </tr>\n",
              "    <tr>\n",
              "      <th>1</th>\n",
              "      <td>User 2</td>\n",
              "      <td>2</td>\n",
              "      <td>62</td>\n",
              "      <td>76</td>\n",
              "      <td>76</td>\n",
              "      <td>69</td>\n",
              "      <td>68</td>\n",
              "    </tr>\n",
              "    <tr>\n",
              "      <th>2</th>\n",
              "      <td>User 3</td>\n",
              "      <td>2</td>\n",
              "      <td>50</td>\n",
              "      <td>97</td>\n",
              "      <td>87</td>\n",
              "      <td>50</td>\n",
              "      <td>75</td>\n",
              "    </tr>\n",
              "    <tr>\n",
              "      <th>3</th>\n",
              "      <td>User 4</td>\n",
              "      <td>2</td>\n",
              "      <td>68</td>\n",
              "      <td>77</td>\n",
              "      <td>95</td>\n",
              "      <td>76</td>\n",
              "      <td>61</td>\n",
              "    </tr>\n",
              "    <tr>\n",
              "      <th>4</th>\n",
              "      <td>User 5</td>\n",
              "      <td>2</td>\n",
              "      <td>98</td>\n",
              "      <td>54</td>\n",
              "      <td>59</td>\n",
              "      <td>95</td>\n",
              "      <td>86</td>\n",
              "    </tr>\n",
              "    <tr>\n",
              "      <th>...</th>\n",
              "      <td>...</td>\n",
              "      <td>...</td>\n",
              "      <td>...</td>\n",
              "      <td>...</td>\n",
              "      <td>...</td>\n",
              "      <td>...</td>\n",
              "      <td>...</td>\n",
              "    </tr>\n",
              "    <tr>\n",
              "      <th>244</th>\n",
              "      <td>User 245</td>\n",
              "      <td>18</td>\n",
              "      <td>139</td>\n",
              "      <td>148</td>\n",
              "      <td>129</td>\n",
              "      <td>129</td>\n",
              "      <td>168</td>\n",
              "    </tr>\n",
              "    <tr>\n",
              "      <th>245</th>\n",
              "      <td>User 246</td>\n",
              "      <td>22</td>\n",
              "      <td>114</td>\n",
              "      <td>228</td>\n",
              "      <td>104</td>\n",
              "      <td>84</td>\n",
              "      <td>168</td>\n",
              "    </tr>\n",
              "    <tr>\n",
              "      <th>246</th>\n",
              "      <td>User 247</td>\n",
              "      <td>20</td>\n",
              "      <td>124</td>\n",
              "      <td>178</td>\n",
              "      <td>104</td>\n",
              "      <td>158</td>\n",
              "      <td>174</td>\n",
              "    </tr>\n",
              "    <tr>\n",
              "      <th>247</th>\n",
              "      <td>User 248</td>\n",
              "      <td>20</td>\n",
              "      <td>133</td>\n",
              "      <td>149</td>\n",
              "      <td>139</td>\n",
              "      <td>144</td>\n",
              "      <td>213</td>\n",
              "    </tr>\n",
              "    <tr>\n",
              "      <th>248</th>\n",
              "      <td>User 249</td>\n",
              "      <td>20</td>\n",
              "      <td>143</td>\n",
              "      <td>149</td>\n",
              "      <td>139</td>\n",
              "      <td>159</td>\n",
              "      <td>143</td>\n",
              "    </tr>\n",
              "  </tbody>\n",
              "</table>\n",
              "<p>249 rows × 7 columns</p>\n",
              "</div>"
            ],
            "text/plain": [
              "      User Id  Sports  Religious  Nature  Theatre  Shopping  Picnic\n",
              "0      User 1       2         77      79       69        68      95\n",
              "1      User 2       2         62      76       76        69      68\n",
              "2      User 3       2         50      97       87        50      75\n",
              "3      User 4       2         68      77       95        76      61\n",
              "4      User 5       2         98      54       59        95      86\n",
              "..        ...     ...        ...     ...      ...       ...     ...\n",
              "244  User 245      18        139     148      129       129     168\n",
              "245  User 246      22        114     228      104        84     168\n",
              "246  User 247      20        124     178      104       158     174\n",
              "247  User 248      20        133     149      139       144     213\n",
              "248  User 249      20        143     149      139       159     143\n",
              "\n",
              "[249 rows x 7 columns]"
            ]
          },
          "metadata": {
            "tags": []
          },
          "execution_count": 3
        }
      ]
    },
    {
      "cell_type": "code",
      "metadata": {
        "id": "jHAoni32GjRX",
        "colab_type": "code",
        "colab": {
          "base_uri": "https://localhost:8080/",
          "height": 74
        },
        "outputId": "c3f8c2c8-ae14-4704-dda4-35c18f13b4c2"
      },
      "source": [
        "# Create sql using sqlite3 package\n",
        "\n",
        "conn = sqlite3.connect('data')\n",
        "\n",
        "df.to_sql('data', conn, if_exists='replace')\n",
        "\n",
        "curs = conn.cursor()"
      ],
      "execution_count": 4,
      "outputs": [
        {
          "output_type": "stream",
          "text": [
            "/usr/local/lib/python3.6/dist-packages/pandas/core/generic.py:2712: UserWarning: The spaces in these column names will not be changed. In pandas versions < 0.14, spaces were converted to underscores.\n",
            "  method=method,\n"
          ],
          "name": "stderr"
        }
      ]
    },
    {
      "cell_type": "code",
      "metadata": {
        "id": "JKPZnb-6LVEU",
        "colab_type": "code",
        "colab": {
          "base_uri": "https://localhost:8080/",
          "height": 35
        },
        "outputId": "b7070687-0620-4b2c-8180-3cb2fee4359b"
      },
      "source": [
        "# How many rows?\n",
        "\n",
        "query = '''SELECT * FROM data'''\n",
        "\n",
        "num_rows = curs.execute(query)\n",
        "print(f'Database contains {len(num_rows.fetchall())} rows')"
      ],
      "execution_count": 5,
      "outputs": [
        {
          "output_type": "stream",
          "text": [
            "Database contains 249 rows\n"
          ],
          "name": "stdout"
        }
      ]
    },
    {
      "cell_type": "code",
      "metadata": {
        "id": "ThEhScSKLzie",
        "colab_type": "code",
        "colab": {
          "base_uri": "https://localhost:8080/",
          "height": 35
        },
        "outputId": "f9417c25-e17c-4489-bd7e-84956f718f94"
      },
      "source": [
        "# How many users reviewed at least 100 Nature and at least 100 Shopping?\n",
        "\n",
        "query = ''' SELECT \"User id\" from data WHERE Nature > 100 AND Shopping > 100'''\n",
        "\n",
        "user_rev = curs.execute(query)\n",
        "print(f'{len(user_rev.fetchall())} reviewers for both Nature and Shopping > 100')"
      ],
      "execution_count": 8,
      "outputs": [
        {
          "output_type": "stream",
          "text": [
            "78 reviewers for both Nature and Shopping > 100\n"
          ],
          "name": "stdout"
        }
      ]
    },
    {
      "cell_type": "code",
      "metadata": {
        "id": "6pyKp0CcMRHR",
        "colab_type": "code",
        "colab": {}
      },
      "source": [
        ""
      ],
      "execution_count": 0,
      "outputs": []
    }
  ]
}