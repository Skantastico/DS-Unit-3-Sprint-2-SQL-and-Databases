{
  "nbformat": 4,
  "nbformat_minor": 0,
  "metadata": {
    "colab": {
      "name": "Unit3Sprint2Class2practice.ipynb",
      "provenance": [],
      "collapsed_sections": []
    },
    "kernelspec": {
      "name": "python3",
      "display_name": "Python 3"
    }
  },
  "cells": [
    {
      "cell_type": "code",
      "metadata": {
        "id": "8sfW0VyuOim7",
        "colab_type": "code",
        "colab": {
          "base_uri": "https://localhost:8080/",
          "height": 124
        },
        "outputId": "2eeb593d-4c21-4cd6-fd74-4e29ce14c0be"
      },
      "source": [
        "!pip install psycopg2-binary"
      ],
      "execution_count": 1,
      "outputs": [
        {
          "output_type": "stream",
          "text": [
            "Collecting psycopg2-binary\n",
            "\u001b[?25l  Downloading https://files.pythonhosted.org/packages/1e/c0/16303cef8d54fdcfae7be7880cf471f21449225687f61cc3be2a7ef4e6e5/psycopg2_binary-2.8.4-cp36-cp36m-manylinux1_x86_64.whl (2.9MB)\n",
            "\u001b[K     |████████████████████████████████| 2.9MB 4.7MB/s \n",
            "\u001b[?25hInstalling collected packages: psycopg2-binary\n",
            "Successfully installed psycopg2-binary-2.8.4\n"
          ],
          "name": "stdout"
        }
      ]
    },
    {
      "cell_type": "code",
      "metadata": {
        "id": "ILje5VYVOm1w",
        "colab_type": "code",
        "colab": {}
      },
      "source": [
        "import psycopg2"
      ],
      "execution_count": 0,
      "outputs": []
    },
    {
      "cell_type": "code",
      "metadata": {
        "id": "RwJ8g98TOveG",
        "colab_type": "code",
        "colab": {
          "base_uri": "https://localhost:8080/",
          "height": 816
        },
        "outputId": "cd386620-b1a6-471a-c694-9b2ea2040040"
      },
      "source": [
        "dir(psycopg2)"
      ],
      "execution_count": 3,
      "outputs": [
        {
          "output_type": "execute_result",
          "data": {
            "text/plain": [
              "['BINARY',\n",
              " 'Binary',\n",
              " 'DATETIME',\n",
              " 'DataError',\n",
              " 'DatabaseError',\n",
              " 'Date',\n",
              " 'DateFromTicks',\n",
              " 'Error',\n",
              " 'IntegrityError',\n",
              " 'InterfaceError',\n",
              " 'InternalError',\n",
              " 'NUMBER',\n",
              " 'NotSupportedError',\n",
              " 'OperationalError',\n",
              " 'ProgrammingError',\n",
              " 'ROWID',\n",
              " 'STRING',\n",
              " 'Time',\n",
              " 'TimeFromTicks',\n",
              " 'Timestamp',\n",
              " 'TimestampFromTicks',\n",
              " 'Warning',\n",
              " '__builtins__',\n",
              " '__cached__',\n",
              " '__doc__',\n",
              " '__file__',\n",
              " '__libpq_version__',\n",
              " '__loader__',\n",
              " '__name__',\n",
              " '__package__',\n",
              " '__path__',\n",
              " '__spec__',\n",
              " '__version__',\n",
              " '_connect',\n",
              " '_ext',\n",
              " '_json',\n",
              " '_psycopg',\n",
              " '_range',\n",
              " 'apilevel',\n",
              " 'compat',\n",
              " 'connect',\n",
              " 'errors',\n",
              " 'extensions',\n",
              " 'paramstyle',\n",
              " 'threadsafety',\n",
              " 'tz']"
            ]
          },
          "metadata": {
            "tags": []
          },
          "execution_count": 3
        }
      ]
    },
    {
      "cell_type": "code",
      "metadata": {
        "id": "2vb82kXIOw6b",
        "colab_type": "code",
        "colab": {}
      },
      "source": [
        "dbname = 'kqdffrqi'\n",
        "user = 'kqdffrqi'\n",
        "password = 'ZwZyobnB8PGRbabHyr9xB8gETfYfsuTX'\n",
        "host = 'rajje.db.elephantsql.com'"
      ],
      "execution_count": 0,
      "outputs": []
    },
    {
      "cell_type": "code",
      "metadata": {
        "id": "ZBBm7pRtPu9J",
        "colab_type": "code",
        "colab": {}
      },
      "source": [
        "pg_conn = psycopg2.connect(dbname=dbname,\n",
        "                           user=user,\n",
        "                           password=password,\n",
        "                           host=host)"
      ],
      "execution_count": 0,
      "outputs": []
    },
    {
      "cell_type": "code",
      "metadata": {
        "id": "vX6zLL34P-vR",
        "colab_type": "code",
        "colab": {
          "base_uri": "https://localhost:8080/",
          "height": 54
        },
        "outputId": "572e1729-03e6-47ec-a7dd-22632e88f557"
      },
      "source": [
        "pg_conn"
      ],
      "execution_count": 24,
      "outputs": [
        {
          "output_type": "execute_result",
          "data": {
            "text/plain": [
              "<connection object at 0x7efe695fa3f0; dsn: 'user=kqdffrqi password=xxx dbname=kqdffrqi host=rajje.db.elephantsql.com', closed: 0>"
            ]
          },
          "metadata": {
            "tags": []
          },
          "execution_count": 24
        }
      ]
    },
    {
      "cell_type": "code",
      "metadata": {
        "id": "Ge2joiIiP_gE",
        "colab_type": "code",
        "colab": {
          "base_uri": "https://localhost:8080/",
          "height": 1000
        },
        "outputId": "b2474f1d-d5c1-41e1-e93d-b398af46dae5"
      },
      "source": [
        "dir(pg_conn)"
      ],
      "execution_count": 11,
      "outputs": [
        {
          "output_type": "execute_result",
          "data": {
            "text/plain": [
              "['DataError',\n",
              " 'DatabaseError',\n",
              " 'Error',\n",
              " 'IntegrityError',\n",
              " 'InterfaceError',\n",
              " 'InternalError',\n",
              " 'NotSupportedError',\n",
              " 'OperationalError',\n",
              " 'ProgrammingError',\n",
              " 'Warning',\n",
              " '__class__',\n",
              " '__delattr__',\n",
              " '__dir__',\n",
              " '__doc__',\n",
              " '__enter__',\n",
              " '__eq__',\n",
              " '__exit__',\n",
              " '__format__',\n",
              " '__ge__',\n",
              " '__getattribute__',\n",
              " '__gt__',\n",
              " '__hash__',\n",
              " '__init__',\n",
              " '__init_subclass__',\n",
              " '__le__',\n",
              " '__lt__',\n",
              " '__ne__',\n",
              " '__new__',\n",
              " '__reduce__',\n",
              " '__reduce_ex__',\n",
              " '__repr__',\n",
              " '__setattr__',\n",
              " '__sizeof__',\n",
              " '__str__',\n",
              " '__subclasshook__',\n",
              " 'async',\n",
              " 'async_',\n",
              " 'autocommit',\n",
              " 'binary_types',\n",
              " 'cancel',\n",
              " 'close',\n",
              " 'closed',\n",
              " 'commit',\n",
              " 'cursor',\n",
              " 'cursor_factory',\n",
              " 'deferrable',\n",
              " 'dsn',\n",
              " 'encoding',\n",
              " 'fileno',\n",
              " 'get_backend_pid',\n",
              " 'get_dsn_parameters',\n",
              " 'get_native_connection',\n",
              " 'get_parameter_status',\n",
              " 'get_transaction_status',\n",
              " 'info',\n",
              " 'isexecuting',\n",
              " 'isolation_level',\n",
              " 'lobject',\n",
              " 'notices',\n",
              " 'notifies',\n",
              " 'pgconn_ptr',\n",
              " 'poll',\n",
              " 'protocol_version',\n",
              " 'readonly',\n",
              " 'reset',\n",
              " 'rollback',\n",
              " 'server_version',\n",
              " 'set_client_encoding',\n",
              " 'set_isolation_level',\n",
              " 'set_session',\n",
              " 'status',\n",
              " 'string_types',\n",
              " 'tpc_begin',\n",
              " 'tpc_commit',\n",
              " 'tpc_prepare',\n",
              " 'tpc_recover',\n",
              " 'tpc_rollback',\n",
              " 'xid']"
            ]
          },
          "metadata": {
            "tags": []
          },
          "execution_count": 11
        }
      ]
    },
    {
      "cell_type": "code",
      "metadata": {
        "id": "Ao0FTnYjQrQI",
        "colab_type": "code",
        "colab": {}
      },
      "source": [
        "pg_curs = pg_conn.cursor()"
      ],
      "execution_count": 0,
      "outputs": []
    },
    {
      "cell_type": "code",
      "metadata": {
        "id": "Xn3yZWEHQ0us",
        "colab_type": "code",
        "colab": {
          "base_uri": "https://localhost:8080/",
          "height": 104
        },
        "outputId": "f03f8038-4a60-4c13-e999-8a7000085f08"
      },
      "source": [
        "help(pg_curs.execute)"
      ],
      "execution_count": 20,
      "outputs": [
        {
          "output_type": "stream",
          "text": [
            "Help on built-in function execute:\n",
            "\n",
            "execute(...) method of psycopg2.extensions.cursor instance\n",
            "    execute(query, vars=None) -- Execute query with bound vars.\n",
            "\n"
          ],
          "name": "stdout"
        }
      ]
    },
    {
      "cell_type": "code",
      "metadata": {
        "id": "Lk6W-0YGQ21d",
        "colab_type": "code",
        "colab": {}
      },
      "source": [
        "create_table_statement = \"\"\"\n",
        "CREATE TABLE test_table (\n",
        "  id        SERIAL PRIMARY KEY,\n",
        "  name  varchar(40) NOT NULL,\n",
        "  data    JSONB\n",
        ");\n",
        "\"\"\"\n",
        "\n",
        "insert_statement = \"\"\"\n",
        "INSERT INTO test_table (name, data) VALUES\n",
        "(\n",
        "  'A row name',\n",
        "  null\n",
        "),\n",
        "(\n",
        "  'Another row, with JSON',\n",
        "  '{ \"a\": 1, \"b\": [\"dog\", \"cat\", 42], \"c\": true }'::JSONB\n",
        ");\n",
        "\"\"\"\n",
        "\n",
        "pg_curs.execute(create_table_statement)\n",
        "pg_conn.commit()"
      ],
      "execution_count": 0,
      "outputs": []
    },
    {
      "cell_type": "code",
      "metadata": {
        "id": "lwiJnfYVRN8u",
        "colab_type": "code",
        "colab": {}
      },
      "source": [
        "pg_curs.execute(insert_statement)\n",
        "pg_conn.commit()"
      ],
      "execution_count": 0,
      "outputs": []
    },
    {
      "cell_type": "code",
      "metadata": {
        "id": "gxTP0IyUSr1i",
        "colab_type": "code",
        "colab": {
          "base_uri": "https://localhost:8080/",
          "height": 52
        },
        "outputId": "df4cff2a-2895-48d0-c057-d3a7bd30fff2"
      },
      "source": [
        "query = \"SELECT * FROM test_table;\"\n",
        "pg_curs.execute(query)\n",
        "pg_curs.fetchall()"
      ],
      "execution_count": 28,
      "outputs": [
        {
          "output_type": "execute_result",
          "data": {
            "text/plain": [
              "[(1, 'A row name', None),\n",
              " (2, 'Another row, with JSON', {'a': 1, 'b': ['dog', 'cat', 42], 'c': True})]"
            ]
          },
          "metadata": {
            "tags": []
          },
          "execution_count": 28
        }
      ]
    },
    {
      "cell_type": "markdown",
      "metadata": {
        "id": "PQSeJD44ZY4S",
        "colab_type": "text"
      },
      "source": [
        "### ETL - RPG data from SQLite to PostgreSQL"
      ]
    },
    {
      "cell_type": "code",
      "metadata": {
        "id": "TD_BH_BVZPN7",
        "colab_type": "code",
        "colab": {
          "base_uri": "https://localhost:8080/",
          "height": 34
        },
        "outputId": "fd44ab60-57fd-453f-f1a3-eae553cd959b"
      },
      "source": [
        "!ls"
      ],
      "execution_count": 29,
      "outputs": [
        {
          "output_type": "stream",
          "text": [
            "rpg_db.sqlite3\tsample_data\n"
          ],
          "name": "stdout"
        }
      ]
    },
    {
      "cell_type": "code",
      "metadata": {
        "id": "erS-1UWYahVc",
        "colab_type": "code",
        "colab": {}
      },
      "source": [
        "import sqlite3\n",
        "\n",
        "sl_conn = sqlite3.connect('/content/rpg_db.sqlite3')\n",
        "sl_curs = sl_conn.cursor()"
      ],
      "execution_count": 0,
      "outputs": []
    },
    {
      "cell_type": "code",
      "metadata": {
        "id": "7mD6cRdEa8Ej",
        "colab_type": "code",
        "colab": {
          "base_uri": "https://localhost:8080/",
          "height": 34
        },
        "outputId": "df3f542f-e8b8-4f42-aabe-528a93159967"
      },
      "source": [
        "# We care about charactercreator_character table\n",
        "\n",
        "row_count = 'SELECT COUNT(*) FROM  charactercreator_character'\n",
        "sl_curs.execute(row_count).fetchall()"
      ],
      "execution_count": 31,
      "outputs": [
        {
          "output_type": "execute_result",
          "data": {
            "text/plain": [
              "[(302,)]"
            ]
          },
          "metadata": {
            "tags": []
          },
          "execution_count": 31
        }
      ]
    },
    {
      "cell_type": "code",
      "metadata": {
        "id": "W1uxFizlbP2d",
        "colab_type": "code",
        "colab": {
          "base_uri": "https://localhost:8080/",
          "height": 104
        },
        "outputId": "fbd086f9-82e4-4a7f-eb1e-4f7bbc0518c1"
      },
      "source": [
        "# Our goal = copy characters from sqlite to postgresql using python\n",
        "\n",
        "# Step 1 Extract and get the characters\n",
        "\n",
        "get_characters = 'SELECT * FROM charactercreator_character'\n",
        "characters = sl_curs.execute(get_characters).fetchall()\n",
        "characters[:5]"
      ],
      "execution_count": 33,
      "outputs": [
        {
          "output_type": "execute_result",
          "data": {
            "text/plain": [
              "[(1, 'Aliquid iste optio reiciendi', 0, 0, 10, 1, 1, 1, 1),\n",
              " (2, 'Optio dolorem ex a', 0, 0, 10, 1, 1, 1, 1),\n",
              " (3, 'Minus c', 0, 0, 10, 1, 1, 1, 1),\n",
              " (4, 'Sit ut repr', 0, 0, 10, 1, 1, 1, 1),\n",
              " (5, 'At id recusandae expl', 0, 0, 10, 1, 1, 1, 1)]"
            ]
          },
          "metadata": {
            "tags": []
          },
          "execution_count": 33
        }
      ]
    },
    {
      "cell_type": "code",
      "metadata": {
        "id": "fDR4U4Vxbk8r",
        "colab_type": "code",
        "colab": {
          "base_uri": "https://localhost:8080/",
          "height": 34
        },
        "outputId": "046746d7-26d3-4049-836d-2b7c76208ac8"
      },
      "source": [
        "len(characters)"
      ],
      "execution_count": 34,
      "outputs": [
        {
          "output_type": "execute_result",
          "data": {
            "text/plain": [
              "302"
            ]
          },
          "metadata": {
            "tags": []
          },
          "execution_count": 34
        }
      ]
    },
    {
      "cell_type": "code",
      "metadata": {
        "id": "5XgFUQAWbppG",
        "colab_type": "code",
        "colab": {
          "base_uri": "https://localhost:8080/",
          "height": 173
        },
        "outputId": "9ff9d4e4-e19a-428a-c226-38cccaf31d94"
      },
      "source": [
        "# Step 2 Transform\n",
        "\n",
        "sl_curs.execute('PRAGMA table_info(charactercreator_character);').fetchall()"
      ],
      "execution_count": 40,
      "outputs": [
        {
          "output_type": "execute_result",
          "data": {
            "text/plain": [
              "[(0, 'character_id', 'integer', 1, None, 1),\n",
              " (1, 'name', 'varchar(30)', 1, None, 0),\n",
              " (2, 'level', 'integer', 1, None, 0),\n",
              " (3, 'exp', 'integer', 1, None, 0),\n",
              " (4, 'hp', 'integer', 1, None, 0),\n",
              " (5, 'strength', 'integer', 1, None, 0),\n",
              " (6, 'intelligence', 'integer', 1, None, 0),\n",
              " (7, 'dexterity', 'integer', 1, None, 0),\n",
              " (8, 'wisdom', 'integer', 1, None, 0)]"
            ]
          },
          "metadata": {
            "tags": []
          },
          "execution_count": 40
        }
      ]
    },
    {
      "cell_type": "code",
      "metadata": {
        "id": "BKUId-BRcQ3J",
        "colab_type": "code",
        "colab": {}
      },
      "source": [
        "create_character_table = \"\"\"\n",
        "CREATE TABLE charactercreator_character ( \n",
        "  character_id SERIAL PRIMARY KEY,\n",
        "  name VARCHAR(30),\n",
        "  level INT,\n",
        "  exp INT,\n",
        "  hp INT,\n",
        "  strength INT,\n",
        "  intelligence INT,\n",
        "  dexterity INT,\n",
        "  wisdom INT\n",
        ");\n",
        "\"\"\"\n"
      ],
      "execution_count": 0,
      "outputs": []
    },
    {
      "cell_type": "code",
      "metadata": {
        "id": "QvntyI1Vc7VN",
        "colab_type": "code",
        "colab": {
          "base_uri": "https://localhost:8080/",
          "height": 205
        },
        "outputId": "73a868c0-e605-4fcf-de67-106fd5d5f156"
      },
      "source": [
        "pg_curs.execute(create_character_table)\n",
        "pg_conn.commit()"
      ],
      "execution_count": 58,
      "outputs": [
        {
          "output_type": "error",
          "ename": "InFailedSqlTransaction",
          "evalue": "ignored",
          "traceback": [
            "\u001b[0;31m---------------------------------------------------------------------------\u001b[0m",
            "\u001b[0;31mInFailedSqlTransaction\u001b[0m                    Traceback (most recent call last)",
            "\u001b[0;32m<ipython-input-58-fe38567a6f1a>\u001b[0m in \u001b[0;36m<module>\u001b[0;34m()\u001b[0m\n\u001b[0;32m----> 1\u001b[0;31m \u001b[0mpg_curs\u001b[0m\u001b[0;34m.\u001b[0m\u001b[0mexecute\u001b[0m\u001b[0;34m(\u001b[0m\u001b[0mcreate_character_table\u001b[0m\u001b[0;34m)\u001b[0m\u001b[0;34m\u001b[0m\u001b[0;34m\u001b[0m\u001b[0m\n\u001b[0m\u001b[1;32m      2\u001b[0m \u001b[0mpg_conn\u001b[0m\u001b[0;34m.\u001b[0m\u001b[0mcommit\u001b[0m\u001b[0;34m(\u001b[0m\u001b[0;34m)\u001b[0m\u001b[0;34m\u001b[0m\u001b[0;34m\u001b[0m\u001b[0m\n",
            "\u001b[0;31mInFailedSqlTransaction\u001b[0m: current transaction is aborted, commands ignored until end of transaction block\n"
          ]
        }
      ]
    },
    {
      "cell_type": "code",
      "metadata": {
        "id": "0r0ZhTOYdBYM",
        "colab_type": "code",
        "colab": {
          "base_uri": "https://localhost:8080/",
          "height": 239
        },
        "outputId": "90225dd1-862a-4757-8d1c-4882db77956c"
      },
      "source": [
        "show_tables = \"\"\"\n",
        "SELECT\n",
        " *\n",
        "FROM\n",
        "  pg_catalog.pg_tables\n",
        "WHERE\n",
        "  schemaname != 'pg_catalog'\n",
        "AND schemaname != 'information_schema';\n",
        "\"\"\"\n",
        "\n",
        "pg_curs.execute(show_tables)\n",
        "pg_curs.fetchall()"
      ],
      "execution_count": 59,
      "outputs": [
        {
          "output_type": "error",
          "ename": "InFailedSqlTransaction",
          "evalue": "ignored",
          "traceback": [
            "\u001b[0;31m---------------------------------------------------------------------------\u001b[0m",
            "\u001b[0;31mInFailedSqlTransaction\u001b[0m                    Traceback (most recent call last)",
            "\u001b[0;32m<ipython-input-59-6d0388e0b9bd>\u001b[0m in \u001b[0;36m<module>\u001b[0;34m()\u001b[0m\n\u001b[1;32m      9\u001b[0m \"\"\"\n\u001b[1;32m     10\u001b[0m \u001b[0;34m\u001b[0m\u001b[0m\n\u001b[0;32m---> 11\u001b[0;31m \u001b[0mpg_curs\u001b[0m\u001b[0;34m.\u001b[0m\u001b[0mexecute\u001b[0m\u001b[0;34m(\u001b[0m\u001b[0mshow_tables\u001b[0m\u001b[0;34m)\u001b[0m\u001b[0;34m\u001b[0m\u001b[0;34m\u001b[0m\u001b[0m\n\u001b[0m\u001b[1;32m     12\u001b[0m \u001b[0mpg_curs\u001b[0m\u001b[0;34m.\u001b[0m\u001b[0mfetchall\u001b[0m\u001b[0;34m(\u001b[0m\u001b[0;34m)\u001b[0m\u001b[0;34m\u001b[0m\u001b[0;34m\u001b[0m\u001b[0m\n",
            "\u001b[0;31mInFailedSqlTransaction\u001b[0m: current transaction is aborted, commands ignored until end of transaction block\n"
          ]
        }
      ]
    },
    {
      "cell_type": "code",
      "metadata": {
        "id": "Dr2sA2qvdaCL",
        "colab_type": "code",
        "colab": {
          "base_uri": "https://localhost:8080/",
          "height": 34
        },
        "outputId": "c8272e58-f5fe-4425-ca72-87a2bc4cc535"
      },
      "source": [
        "characters[0]"
      ],
      "execution_count": 52,
      "outputs": [
        {
          "output_type": "execute_result",
          "data": {
            "text/plain": [
              "(1, 'Aliquid iste optio reiciendi', 0, 0, 10, 1, 1, 1, 1)"
            ]
          },
          "metadata": {
            "tags": []
          },
          "execution_count": 52
        }
      ]
    },
    {
      "cell_type": "code",
      "metadata": {
        "id": "OUUKoCJ1dxX4",
        "colab_type": "code",
        "colab": {
          "base_uri": "https://localhost:8080/",
          "height": 104
        },
        "outputId": "a1d236df-8cd4-461b-cb5d-7c1537d85a92"
      },
      "source": [
        "example_insert = \"\"\"\n",
        "INSERT INTO charactercreator_character\n",
        "(name, level, exp, hp, strength, intelligence, dexterity, wisdom)\n",
        "VALUES\n",
        "\"\"\" + str(characters[0][1:]) + \";\"\n",
        "\n",
        "print(example_insert)"
      ],
      "execution_count": 60,
      "outputs": [
        {
          "output_type": "stream",
          "text": [
            "\n",
            "INSERT INTO charactercreator_character\n",
            "(name, level, exp, hp, strength, intelligence, dexterity, wisdom)\n",
            "VALUES\n",
            "('Aliquid iste optio reiciendi', 0, 0, 10, 1, 1, 1, 1);\n"
          ],
          "name": "stdout"
        }
      ]
    },
    {
      "cell_type": "code",
      "metadata": {
        "id": "GelEtekreScK",
        "colab_type": "code",
        "colab": {
          "base_uri": "https://localhost:8080/",
          "height": 222
        },
        "outputId": "9e16fad6-dc9e-4d60-e630-aff013a68382"
      },
      "source": [
        "# How do we do this for all characters? Loops\n",
        "\n",
        "for character in characters:\n",
        "  insert_character = \"\"\"\n",
        "    INSERT INTO charactercreator_character\n",
        "    (name, level, exp, hp, strength, intelligence, dexterity, wisdom)\n",
        "    VALUES \"\"\" + str(character[1:]) + \";\"\n",
        "  pg_curs.execute(insert_character)"
      ],
      "execution_count": 55,
      "outputs": [
        {
          "output_type": "error",
          "ename": "InFailedSqlTransaction",
          "evalue": "ignored",
          "traceback": [
            "\u001b[0;31m---------------------------------------------------------------------------\u001b[0m",
            "\u001b[0;31mInFailedSqlTransaction\u001b[0m                    Traceback (most recent call last)",
            "\u001b[0;32m<ipython-input-55-1d5499ab9c85>\u001b[0m in \u001b[0;36m<module>\u001b[0;34m()\u001b[0m\n\u001b[1;32m      5\u001b[0m     \u001b[0;34m(\u001b[0m\u001b[0mname\u001b[0m\u001b[0;34m,\u001b[0m \u001b[0mlevel\u001b[0m\u001b[0;34m,\u001b[0m \u001b[0mexp\u001b[0m\u001b[0;34m,\u001b[0m \u001b[0mhp\u001b[0m\u001b[0;34m,\u001b[0m \u001b[0mstrength\u001b[0m\u001b[0;34m,\u001b[0m \u001b[0mintelligence\u001b[0m\u001b[0;34m,\u001b[0m \u001b[0mdexterity\u001b[0m\u001b[0;34m,\u001b[0m \u001b[0mwisdom\u001b[0m\u001b[0;34m)\u001b[0m\u001b[0;34m\u001b[0m\u001b[0;34m\u001b[0m\u001b[0m\n\u001b[1;32m      6\u001b[0m     VALUES \"\"\" + str(character[1:]) + \";\"\n\u001b[0;32m----> 7\u001b[0;31m   \u001b[0mpg_curs\u001b[0m\u001b[0;34m.\u001b[0m\u001b[0mexecute\u001b[0m\u001b[0;34m(\u001b[0m\u001b[0minsert_character\u001b[0m\u001b[0;34m)\u001b[0m\u001b[0;34m\u001b[0m\u001b[0;34m\u001b[0m\u001b[0m\n\u001b[0m",
            "\u001b[0;31mInFailedSqlTransaction\u001b[0m: current transaction is aborted, commands ignored until end of transaction block\n"
          ]
        }
      ]
    },
    {
      "cell_type": "code",
      "metadata": {
        "id": "bIPXGubffK0d",
        "colab_type": "code",
        "colab": {
          "base_uri": "https://localhost:8080/",
          "height": 205
        },
        "outputId": "72672931-5397-4466-c34e-f6130ed84430"
      },
      "source": [
        "pg_curs.execute('SELECT * FROM charactercreator_character')\n",
        "pg_curs.fetchall()"
      ],
      "execution_count": 51,
      "outputs": [
        {
          "output_type": "error",
          "ename": "InFailedSqlTransaction",
          "evalue": "ignored",
          "traceback": [
            "\u001b[0;31m---------------------------------------------------------------------------\u001b[0m",
            "\u001b[0;31mInFailedSqlTransaction\u001b[0m                    Traceback (most recent call last)",
            "\u001b[0;32m<ipython-input-51-ce033109e6dd>\u001b[0m in \u001b[0;36m<module>\u001b[0;34m()\u001b[0m\n\u001b[0;32m----> 1\u001b[0;31m \u001b[0mpg_curs\u001b[0m\u001b[0;34m.\u001b[0m\u001b[0mexecute\u001b[0m\u001b[0;34m(\u001b[0m\u001b[0;34m'SELECT * FROM charactercreator_character'\u001b[0m\u001b[0;34m)\u001b[0m\u001b[0;34m\u001b[0m\u001b[0;34m\u001b[0m\u001b[0m\n\u001b[0m\u001b[1;32m      2\u001b[0m \u001b[0mpg_curs\u001b[0m\u001b[0;34m.\u001b[0m\u001b[0mfetchall\u001b[0m\u001b[0;34m(\u001b[0m\u001b[0;34m)\u001b[0m\u001b[0;34m\u001b[0m\u001b[0;34m\u001b[0m\u001b[0m\n",
            "\u001b[0;31mInFailedSqlTransaction\u001b[0m: current transaction is aborted, commands ignored until end of transaction block\n"
          ]
        }
      ]
    },
    {
      "cell_type": "code",
      "metadata": {
        "id": "MEwxJyCcfoB-",
        "colab_type": "code",
        "colab": {}
      },
      "source": [
        ""
      ],
      "execution_count": 0,
      "outputs": []
    }
  ]
}